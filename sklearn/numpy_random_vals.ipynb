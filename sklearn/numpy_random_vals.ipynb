{
 "cells": [
  {
   "cell_type": "code",
   "execution_count": 1,
   "metadata": {
    "collapsed": true
   },
   "outputs": [],
   "source": [
    "import numpy.random as rnd"
   ]
  },
  {
   "cell_type": "code",
   "execution_count": 40,
   "metadata": {},
   "outputs": [
    {
     "name": "stdout",
     "output_type": "stream",
     "text": [
      "[ 0.5488135   0.71518937  0.60276338  0.54488318  0.4236548   0.64589411]\n",
      "[5 8 7 1 1 5]\n",
      "[2 7 8 8 9 2 6 9 5]\n",
      "[ 0.0202184   0.83261985  0.77815675  0.87001215  0.97861834]\n",
      "[ 0.79915856  0.46147936  0.78052918  0.11827443  0.63992102]\n",
      "[ 0.14335329  0.94466892  0.52184832  0.41466194  0.26455561]\n",
      "[1 7 1 7 5]\n",
      "--------------------------------------------------\n",
      "[3 2 1 7 8 6 5 4 0]\n"
     ]
    },
    {
     "name": "stderr",
     "output_type": "stream",
     "text": [
      "/home/maniram/anaconda/lib/python3.6/site-packages/ipykernel_launcher.py:8: DeprecationWarning: This function is deprecated. Please call randint(1, 9 + 1) instead\n",
      "  \n"
     ]
    }
   ],
   "source": [
    "x=rnd.seed(0)\n",
    "arr=rnd.rand(6)\n",
    "print(arr)\n",
    "# st=rnd.get_state()\n",
    "# print(\"State : \",st)\n",
    "\n",
    "iar=rnd.randint(1,9,6)\n",
    "iar1=rnd.random_integers(1,9,9)\n",
    "print(iar)\n",
    "print(iar1)\n",
    "print(rnd.random_sample(5))\n",
    "print(rnd.ranf(5))\n",
    "print(rnd.random(5))\n",
    "\n",
    "print(rnd.choice(iar,5))\n",
    "print(\"-\"*50)\n",
    "print(rnd.permutation(9))\n"
   ]
  },
  {
   "cell_type": "markdown",
   "metadata": {},
   "source": [
    "#### arr"
   ]
  },
  {
   "cell_type": "code",
   "execution_count": 41,
   "metadata": {
    "collapsed": true
   },
   "outputs": [],
   "source": [
    "x=rnd.seed(0)\n",
    "arr=rnd.rand(6)"
   ]
  },
  {
   "cell_type": "code",
   "execution_count": 42,
   "metadata": {},
   "outputs": [
    {
     "data": {
      "text/plain": [
       "array([ 0.5488135 ,  0.71518937,  0.60276338,  0.54488318,  0.4236548 ,\n",
       "        0.64589411])"
      ]
     },
     "execution_count": 42,
     "metadata": {},
     "output_type": "execute_result"
    }
   ],
   "source": [
    "arr"
   ]
  },
  {
   "cell_type": "code",
   "execution_count": 43,
   "metadata": {},
   "outputs": [
    {
     "data": {
      "text/plain": [
       "array([ 0.43758721,  0.891773  ,  0.96366276,  0.38344152,  0.79172504,\n",
       "        0.52889492])"
      ]
     },
     "execution_count": 43,
     "metadata": {},
     "output_type": "execute_result"
    }
   ],
   "source": [
    "arr=rnd.rand(6)\n",
    "arr"
   ]
  },
  {
   "cell_type": "code",
   "execution_count": 44,
   "metadata": {
    "collapsed": true
   },
   "outputs": [],
   "source": [
    "x=rnd.seed(0)\n",
    "arr=rnd.randn(6)"
   ]
  },
  {
   "cell_type": "code",
   "execution_count": 45,
   "metadata": {},
   "outputs": [
    {
     "data": {
      "text/plain": [
       "array([ 1.76405235,  0.40015721,  0.97873798,  2.2408932 ,  1.86755799,\n",
       "       -0.97727788])"
      ]
     },
     "execution_count": 45,
     "metadata": {},
     "output_type": "execute_result"
    }
   ],
   "source": [
    "arr"
   ]
  },
  {
   "cell_type": "code",
   "execution_count": null,
   "metadata": {
    "collapsed": true
   },
   "outputs": [],
   "source": []
  }
 ],
 "metadata": {
  "kernelspec": {
   "display_name": "Python 3",
   "language": "python",
   "name": "python3"
  },
  "language_info": {
   "codemirror_mode": {
    "name": "ipython",
    "version": 3
   },
   "file_extension": ".py",
   "mimetype": "text/x-python",
   "name": "python",
   "nbconvert_exporter": "python",
   "pygments_lexer": "ipython3",
   "version": "3.6.3"
  }
 },
 "nbformat": 4,
 "nbformat_minor": 2
}
