{
 "cells": [
  {
   "cell_type": "code",
   "execution_count": 46,
   "metadata": {},
   "outputs": [
    {
     "name": "stdout",
     "output_type": "stream",
     "text": [
      "X _Shape :  (1797, 64)\n",
      "Y _Shape :  (1797,)\n",
      "\n",
      "\n",
      "\n",
      " -------------------------------------------------- \n",
      "\n",
      "\n",
      "\n",
      "L Regression : 0.41358321428\n",
      "Lasso CV :  0.429885935224\n",
      "L Lars CV :  0.41921812678\n",
      "L Lars -0.000175645763786\n",
      "IC :  0.431117447158\n",
      "Lassso :  0.384943169632\n",
      "Ridge :  0.414034362088\n",
      "Elastic net :  0.425364403221\n",
      "SVR :  0.355418021784\n"
     ]
    }
   ],
   "source": [
    "import warnings\n",
    "warnings.filterwarnings('ignore')   # Hise all the warning\n",
    "\n",
    "from sklearn import datasets, svm,linear_model\n",
    "import math\n",
    "digits = datasets.load_digits()\n",
    "\n",
    "X_digits = digits.data\n",
    "y_digits = digits.target\n",
    "\n",
    "\n",
    "svc = svm.SVC(C=1, kernel='linear')\n",
    "svr = svm.SVR(C=1, kernel='linear')\n",
    "\n",
    "lr = linear_model.LinearRegression()\n",
    "ls = linear_model.Lasso(alpha=1.0)\n",
    "lsc = linear_model.LassoCV()\n",
    "lslc = linear_model.LassoLarsCV()\n",
    "lsl = linear_model.LassoLars()\n",
    "lsli = linear_model.LassoLarsIC()\n",
    "rg = linear_model.Ridge(alpha=1.0)\n",
    "en = linear_model.ElasticNet()\n",
    "\n",
    "print(\"X _Shape : \",X_digits.shape)\n",
    "print(\"Y _Shape : \",y_digits.shape)\n",
    "\n",
    "print(\"\\n\"*3,\"-\"*50,\"\\n\"*3)\n",
    "\n",
    "x_train = X_digits[:math.floor(X_digits.shape[0]*(0.7))]\n",
    "y_train = y_digits[:math.floor(X_digits.shape[0]*(0.7))]\n",
    "x_test = X_digits[math.ceil(X_digits.shape[0]*(0.7)):]\n",
    "y_test =y_digits[math.ceil(X_digits.shape[0]*(0.7)):]\n",
    "\n",
    "print(\"L Regression :\",lr.fit(x_train,y_train).score(x_test,y_test))\n",
    "print(\"Lasso CV : \",lsc.fit(x_train,y_train).score(x_test,y_test))\n",
    "print(\"L Lars CV : \",lslc.fit(x_train,y_train).score(x_test,y_test))\n",
    "print(\"L Lars\",lsl.fit(x_train,y_train).score(x_test,y_test))\n",
    "print(\"IC : \",lsli.fit(x_train,y_train).score(x_test,y_test))\n",
    "print(\"Lassso : \",ls.fit(x_train,y_train).score(x_test,y_test))\n",
    "print(\"Ridge : \",rg.fit(x_train,y_train).score(x_test,y_test))\n",
    "print(\"Elastic net : \",en.fit(x_train,y_train).score(x_test,y_test))\n",
    "print(\"SVR : \",svr.fit(x_train,y_train).score(x_test,y_test))\n",
    "\n",
    "#print(\"SVC : \",svc.fit(X_digits[:-100], y_digits[:-100]).score(X_digits[-100:], y_digits[-100:]))"
   ]
  },
  {
   "cell_type": "code",
   "execution_count": null,
   "metadata": {
    "collapsed": true
   },
   "outputs": [],
   "source": []
  }
 ],
 "metadata": {
  "kernelspec": {
   "display_name": "Python 3",
   "language": "python",
   "name": "python3"
  },
  "language_info": {
   "codemirror_mode": {
    "name": "ipython",
    "version": 3
   },
   "file_extension": ".py",
   "mimetype": "text/x-python",
   "name": "python",
   "nbconvert_exporter": "python",
   "pygments_lexer": "ipython3",
   "version": "3.6.3"
  }
 },
 "nbformat": 4,
 "nbformat_minor": 2
}
