{
 "cells": [
  {
   "cell_type": "code",
   "execution_count": 139,
   "metadata": {},
   "outputs": [
    {
     "name": "stdout",
     "output_type": "stream",
     "text": [
      "[[0 1]\n",
      " [2 3]\n",
      " [4 5]\n",
      " [6 7]\n",
      " [8 9]]\n",
      "[[  1.   0.   1.   0.   0.   1.]\n",
      " [  1.   2.   3.   4.   6.   9.]\n",
      " [  1.   4.   5.  16.  20.  25.]\n",
      " [  1.   6.   7.  36.  42.  49.]\n",
      " [  1.   8.   9.  64.  72.  81.]]\n",
      "__________________________________________________\n",
      "[ 0.25  0.25]\n",
      "-0.25\n"
     ]
    },
    {
     "data": {
      "text/plain": [
       "array([ 3.,  4.])"
      ]
     },
     "execution_count": 139,
     "metadata": {},
     "output_type": "execute_result"
    }
   ],
   "source": [
    "from sklearn.preprocessing import PolynomialFeatures\n",
    "from sklearn.linear_model import LinearRegression\n",
    "import numpy as np\n",
    "\n",
    "x = np.arange(10).reshape(5,2)\n",
    "x_test = (np.arange(4)+6).reshape(2,2)\n",
    "\n",
    "y = np.arange(5)\n",
    "print(x)\n",
    "\n",
    "y_test = np.arange(2)+5\n",
    "poly  = PolynomialFeatures(degree=2)\n",
    "\n",
    "data = poly.fit_transform(x)\n",
    "print(data)\n",
    "\n",
    "\n",
    "lr = LinearRegression()\n",
    "lr.fit(x,y)\n",
    "\n",
    "print(\"_\"*50)\n",
    "print(lr.coef_,lr.intercept_,sep='\\n',end='\\n')\n",
    "\n",
    "\n",
    "\n",
    "lr.predict(x_test)\n",
    "\n",
    "#y_pred = lr.fit(x_test,y)\n",
    "#lr.score(x_test,)\n"
   ]
  },
  {
   "cell_type": "code",
   "execution_count": 144,
   "metadata": {},
   "outputs": [
    {
     "data": {
      "image/png": "[encoded data removed]",
      "text/plain": [
       "<matplotlib.figure.Figure at 0x7f3875f0d550>"
      ]
     },
     "metadata": {},
     "output_type": "display_data"
    }
   ],
   "source": [
    "import matplotlib.pyplot as plt\n",
    "\n",
    "plt.scatter(np.random.randint(5,15,5)+6,y)\n",
    "plt.show()"
   ]
  },
  {
   "cell_type": "code",
   "execution_count": null,
   "metadata": {
    "collapsed": true
   },
   "outputs": [],
   "source": []
  },
  {
   "cell_type": "code",
   "execution_count": 153,
   "metadata": {},
   "outputs": [
    {
     "name": "stderr",
     "output_type": "stream",
     "text": [
      "/home/maniram/anaconda/lib/python3.6/site-packages/ipykernel_launcher.py:20: RankWarning: Polyfit may be poorly conditioned\n"
     ]
    },
    {
     "data": {
      "text/plain": [
       "array([-0.06968404,  0.01580567,  2.44037129, -0.38649292])"
      ]
     },
     "execution_count": 153,
     "metadata": {},
     "output_type": "execute_result"
    }
   ],
   "source": [
    "def draw(intercept,low,high,sz=10):\n",
    "    x = np.random.randint(low,high,sz)\n",
    "    y = []\n",
    "    \n",
    "    print(x,y)\n",
    "    print(\"-\"*50)\n",
    "    deg =len(intercept)-1\n",
    "    print(\"deg : \",deg)\n",
    "    if deg== 3 :\n",
    "        for i in range(len(x)):\n",
    "            #print(i)\n",
    "            y.append(intercept[0]+intercept[1]*x[i]+intercept[2]*x[i]**2+intercept[3]*x[i]**3)\n",
    "            \n",
    "    return x,y\n",
    "    \n",
    "    #+intercept[1]*np.array(x)\n",
    "    \n",
    "x = np.random.randint(1,6,5)\n",
    "y = np.random.randint(1,6,5)\n",
    "z = np.polyfit(x,y,deg=3)\n",
    "z"
   ]
  },
  {
   "cell_type": "code",
   "execution_count": 154,
   "metadata": {},
   "outputs": [
    {
     "name": "stdout",
     "output_type": "stream",
     "text": [
      "[33 17 28 39 31  6 30  5  2 31 35 19  2 24 15 16 28 12 28  5 10  3 12 33 23\n",
      " 23 34 37 19 35] []\n",
      "--------------------------------------------------\n",
      "deg :  3\n"
     ]
    },
    {
     "data": {
      "image/png": "[encoded data removed]",
      "text/plain": [
       "<matplotlib.figure.Figure at 0x7f3876135d68>"
      ]
     },
     "metadata": {},
     "output_type": "display_data"
    }
   ],
   "source": [
    "ax,ay= draw(z,1,40,sz=30)\n",
    "\n",
    "fig, a = plt.subplots()\n",
    "a.scatter(ax,ay,marker=\"*\",color='r',label='points')\n",
    "\n",
    "# print(ax,ay)\n",
    "# for i in range(len(ax)):\n",
    "#     a.annotate(i,(ax[i],ay[i]))\n",
    "a.set_title(\"3rd order Polynomial regression\")\n",
    "a.set_xlabel('x values')\n",
    "a.set_ylabel('y values')\n",
    "\n",
    "plt.show()"
   ]
  },
  {
   "cell_type": "code",
   "execution_count": null,
   "metadata": {
    "collapsed": true
   },
   "outputs": [],
   "source": []
  }
 ],
 "metadata": {
  "kernelspec": {
   "display_name": "Python 3",
   "language": "python",
   "name": "python3"
  },
  "language_info": {
   "codemirror_mode": {
    "name": "ipython",
    "version": 3
   },
   "file_extension": ".py",
   "mimetype": "text/x-python",
   "name": "python",
   "nbconvert_exporter": "python",
   "pygments_lexer": "ipython3",
   "version": "3.6.3"
  }
 },
 "nbformat": 4,
 "nbformat_minor": 2
}
