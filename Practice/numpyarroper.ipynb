{
 "cells": [
  {
   "cell_type": "code",
   "execution_count": 1,
   "metadata": {},
   "outputs": [],
   "source": [
    "\n",
    "import numpy as n\n"
   ]
  },
  {
   "cell_type": "code",
   "execution_count": 36,
   "metadata": {},
   "outputs": [
    {
     "name": "stdout",
     "output_type": "stream",
     "text": [
      "(array([[1, 2, 3],\n",
      "       [3, 4, 5]]), (2, 3), 4)\n",
      "**************\n",
      "(array([ 0,  1,  2,  3,  4,  5,  6,  7,  8,  9, 10, 11, 12, 13, 14, 15, 16,\n",
      "       17, 18, 19, 20, 21, 22, 23]), 1)\n",
      "(array([[[ 0,  1,  2,  3],\n",
      "        [ 4,  5,  6,  7],\n",
      "        [ 8,  9, 10, 11]],\n",
      "\n",
      "       [[12, 13, 14, 15],\n",
      "        [16, 17, 18, 19],\n",
      "        [20, 21, 22, 23]]]), 3, (2, 3, 4))\n",
      "**************\n",
      "[[1 3 4]\n",
      " [2 3 5]]\n",
      "**************\n",
      "[[1 1 1]\n",
      " [1 1 1]]\n",
      "**************\n",
      "[[0 0 0]\n",
      " [0 0 0]]\n",
      "***** As Array *********\n",
      "[2 6 3 8]\n",
      "****** FromBuffer ********\n",
      "['M' 'a' 'n' 'i' 'r' 'a' 'm']\n",
      "******  From Iter ********\n",
      "[0 1 2 3 4 5 6]\n"
     ]
    }
   ],
   "source": [
    "a=n.array([(1,2,3),(3,4,5)])\n",
    "\n",
    "print(a,a.shape,a.itemsize)\n",
    "print(\"**************\")\n",
    "ar=n.arange(24)\n",
    "print(ar,ar.ndim)\n",
    "br=ar.reshape(2,3,4)\n",
    "print(br,br.ndim,br.shape)\n",
    "print(\"**************\")\n",
    "ar=n.empty([2,3],dtype=int,order='F')\n",
    "print(ar)\n",
    "print(\"**************\")\n",
    "ar=n.ones([2,3],dtype=int,order='F')\n",
    "print(ar)\n",
    "print(\"**************\")\n",
    "ar=n.zeros([2,3],dtype=int,order='C')\n",
    "print(ar)\n",
    "print(\"***** As Array *********\")\n",
    "a=[2,6,3,8]\n",
    "ar=n.asarray(a,dtype=int,order='C')\n",
    "print(ar)\n",
    "print(\"****** FromBuffer ********\")\n",
    "s='Maniram'\n",
    "ar=n.frombuffer(s,dtype='S1')\n",
    "print(ar)\n",
    "print(\"******  From Iter ********\")\n",
    "r=range(7)\n",
    "it=iter(r)\n",
    "ar=n.fromiter(it,dtype=int)\n",
    "print(ar)"
   ]
  },
  {
   "cell_type": "code",
   "execution_count": 45,
   "metadata": {},
   "outputs": [
    {
     "name": "stdout",
     "output_type": "stream",
     "text": [
      "*********   Array range ************\n",
      "[2 4 6]\n",
      "*********   linespace  ************\n",
      "[ 2.          2.66666667  3.33333333  4.          4.66666667  5.33333333\n",
      "  6.          6.66666667  7.33333333]\n"
     ]
    }
   ],
   "source": [
    "\"\"\"\n",
    "b=a.reshape(3,2)\n",
    "print(b,b.shape)\n",
    "b.shape=(2,3)\n",
    "print(b,b.shape)\n",
    "\"\"\"\n",
    "print('*********   Array range ************')\n",
    "b=n.arange(2,8,2,dtype=int)\n",
    "print(b)\n",
    "print('*********   linespace  ************')\n",
    "b=n.linspace(2,8,9,dtype=float,endpoint=False)\n",
    "print(b)\n"
   ]
  },
  {
   "cell_type": "code",
   "execution_count": 48,
   "metadata": {},
   "outputs": [
    {
     "name": "stdout",
     "output_type": "stream",
     "text": [
      "[ 2.+0.j  3.+0.j  4.+0.j  5.+0.j]\n",
      "(4,)\n",
      "*********   logspace  ************\n",
      "[   4.            6.34960421   10.0793684    16.           25.39841683\n",
      "   40.3174736    64.          101.59366733  161.26989439]\n"
     ]
    }
   ],
   "source": [
    "c=n.array([2,3,4,5],dtype=complex)\n",
    "print(c)\n",
    "print(c.shape)\n",
    "print('*********   logspace  ************')\n",
    "b=n.logspace(2,8,9,dtype=float,endpoint=False,base=2)\n",
    "print(b)\n"
   ]
  },
  {
   "cell_type": "code",
   "execution_count": null,
   "metadata": {},
   "outputs": [],
   "source": []
  }
 ],
 "metadata": {
  "kernelspec": {
   "display_name": "Python 2",
   "language": "python",
   "name": "python2"
  },
  "language_info": {
   "codemirror_mode": {
    "name": "ipython",
    "version": 2
   },
   "file_extension": ".py",
   "mimetype": "text/x-python",
   "name": "python",
   "nbconvert_exporter": "python",
   "pygments_lexer": "ipython2",
   "version": "2.7.10"
  }
 },
 "nbformat": 4,
 "nbformat_minor": 2
}
