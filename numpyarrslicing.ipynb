{
 "cells": [
  {
   "cell_type": "code",
   "execution_count": 19,
   "metadata": {},
   "outputs": [
    {
     "name": "stdout",
     "output_type": "stream",
     "text": [
      "[2 5 8]\n",
      "*************************\n",
      "[2 4 6 8]\n",
      "***********Two Dimensional array **************\n",
      "[[ 0  1  2  3  4  5]\n",
      " [ 6  7  8  9 10 11]\n",
      " [12 13 14 15 16 17]\n",
      " [18 19 20 21 22 23]]\n",
      "*********   return rows ****************\n",
      "[[12 13 14 15 16 17]\n",
      " [18 19 20 21 22 23]]\n",
      "*********   return rows ****************\n",
      "[[12 13 14 15 16 17]\n",
      " [18 19 20 21 22 23]]\n",
      "*********   return cols ****************\n",
      "[[ 3  4  5]\n",
      " [ 9 10 11]\n",
      " [15 16 17]\n",
      " [21 22 23]]\n",
      "*********   return rows ****************\n",
      "[[12 13 14 15 16 17]\n",
      " [18 19 20 21 22 23]]\n"
     ]
    }
   ],
   "source": [
    "import numpy as n\n",
    "a=n.arange(24)\n",
    "b=slice(2,10,3)\n",
    "print(a[b])\n",
    "print(\"*************************\")\n",
    "print(a[2:10:2])\n",
    "print(\"***********Two Dimensional array **************\")\n",
    "b=a.reshape(4,6)\n",
    "print(b)\n",
    "print(\"*********   return rows ****************\")\n",
    "print(b[2:4])\n",
    "print(\"*********   return rows ****************\")\n",
    "print(b[2:])\n",
    "print(\"*********   return cols ****************\")\n",
    "print(b[...,3:])\n",
    "print(\"*********   return rows ****************\")\n",
    "print(b[2:,...])\n",
    "\n"
   ]
  },
  {
   "cell_type": "code",
   "execution_count": null,
   "metadata": {},
   "outputs": [],
   "source": []
  }
 ],
 "metadata": {
  "kernelspec": {
   "display_name": "Python 2",
   "language": "python",
   "name": "python2"
  },
  "language_info": {
   "codemirror_mode": {
    "name": "ipython",
    "version": 2
   },
   "file_extension": ".py",
   "mimetype": "text/x-python",
   "name": "python",
   "nbconvert_exporter": "python",
   "pygments_lexer": "ipython2",
   "version": "2.7.10"
  }
 },
 "nbformat": 4,
 "nbformat_minor": 2
}
